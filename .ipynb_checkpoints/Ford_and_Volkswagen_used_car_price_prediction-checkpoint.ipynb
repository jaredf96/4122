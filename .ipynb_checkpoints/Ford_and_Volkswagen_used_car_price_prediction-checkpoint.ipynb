{
 "cells": [
  {
   "cell_type": "code",
   "execution_count": 2,
   "id": "83d4c547",
   "metadata": {},
   "outputs": [],
   "source": [
    "import pandas as pd\n",
    "import numpy as np\n",
    "from sklearn.compose import ColumnTransformer\n",
    "from sklearn.pipeline import Pipeline\n",
    "from sklearn.model_selection import train_test_split\n",
    "from sklearn.metrics import mean_absolute_error\n",
    "from sklearn.metrics import r2_score\n",
    "from sklearn.preprocessing import OneHotEncoder, StandardScaler\n",
    "from sklearn.ensemble import RandomForestRegressor\n",
    "import pickle\n"
   ]
  },
  {
   "cell_type": "markdown",
   "id": "0bc69a7f",
   "metadata": {},
   "source": [
    " Loading the datasets"
   ]
  },
  {
   "cell_type": "code",
   "execution_count": 3,
   "id": "7d160e3a",
   "metadata": {},
   "outputs": [],
   "source": [
    "df_ford = pd.read_csv('ford.csv')\n",
    "df_volkswagen = pd.read_csv('vw.csv')"
   ]
  },
  {
   "cell_type": "markdown",
   "id": "b3727e19",
   "metadata": {},
   "source": [
    "Combining Ford and Volkswagen datasets"
   ]
  },
  {
   "cell_type": "code",
   "execution_count": 4,
   "id": "93923646",
   "metadata": {},
   "outputs": [],
   "source": [
    "df_merged = pd.concat([df_ford, df_volkswagen], ignore_index=True)"
   ]
  },
  {
   "cell_type": "markdown",
   "id": "4a74db99",
   "metadata": {},
   "source": [
    "Preprocess the data"
   ]
  },
  {
   "cell_type": "code",
   "execution_count": 5,
   "id": "e9cf5866",
   "metadata": {},
   "outputs": [],
   "source": [
    "X = df_merged.drop('price', axis=1)\n",
    "Y = df_merged['price']"
   ]
  },
  {
   "cell_type": "markdown",
   "id": "976b2314",
   "metadata": {},
   "source": [
    "Split the data into training and testing sets"
   ]
  },
  {
   "cell_type": "code",
   "execution_count": 6,
   "id": "2c04d19c",
   "metadata": {},
   "outputs": [],
   "source": [
    "X_train, X_test, Y_train, Y_test = train_test_split(X, Y, test_size=0.2, random_state=30)"
   ]
  },
  {
   "cell_type": "markdown",
   "id": "8c06dc61",
   "metadata": {},
   "source": [
    "Preprocessing pipeline"
   ]
  },
  {
   "cell_type": "code",
   "execution_count": 7,
   "id": "d8eac31e",
   "metadata": {},
   "outputs": [],
   "source": [
    "numeric_columns = ['year', 'mileage', 'tax', 'mpg', 'engineSize']\n",
    "categorical_columns = ['model', 'transmission', 'fuelType']\n",
    "\n",
    "preprocessor = ColumnTransformer(\n",
    "    transformers=[\n",
    "        ('numeric', StandardScaler(), numeric_columns),\n",
    "        ('categorical', OneHotEncoder(handle_unknown='ignore'), categorical_columns)\n",
    "    ])"
   ]
  },
  {
   "cell_type": "markdown",
   "id": "46224087",
   "metadata": {},
   "source": [
    "Create a pipeline with a random forest regressor"
   ]
  },
  {
   "cell_type": "code",
   "execution_count": 8,
   "id": "51200047",
   "metadata": {},
   "outputs": [],
   "source": [
    "model = Pipeline(steps=[('preprocessor', preprocessor),\n",
    "                           ('regressor', RandomForestRegressor(random_state=30))])\n"
   ]
  },
  {
   "cell_type": "markdown",
   "id": "3699b869",
   "metadata": {},
   "source": [
    "Train the model"
   ]
  },
  {
   "cell_type": "code",
   "execution_count": 9,
   "id": "c1dbd574",
   "metadata": {},
   "outputs": [
    {
     "data": {
      "text/plain": [
       "Pipeline(steps=[('preprocessor',\n",
       "                 ColumnTransformer(transformers=[('numeric', StandardScaler(),\n",
       "                                                  ['year', 'mileage', 'tax',\n",
       "                                                   'mpg', 'engineSize']),\n",
       "                                                 ('categorical',\n",
       "                                                  OneHotEncoder(handle_unknown='ignore'),\n",
       "                                                  ['model', 'transmission',\n",
       "                                                   'fuelType'])])),\n",
       "                ('regressor', RandomForestRegressor(random_state=30))])"
      ]
     },
     "execution_count": 9,
     "metadata": {},
     "output_type": "execute_result"
    }
   ],
   "source": [
    "model.fit(X_train, Y_train)"
   ]
  },
  {
   "cell_type": "markdown",
   "id": "2c160179",
   "metadata": {},
   "source": [
    "Evaluating the model using MAE and R2"
   ]
  },
  {
   "cell_type": "code",
   "execution_count": 10,
   "id": "8356d14f",
   "metadata": {},
   "outputs": [
    {
     "name": "stdout",
     "output_type": "stream",
     "text": [
      "Mean Absolute Error: 971.3420803588134\n"
     ]
    },
    {
     "ename": "NameError",
     "evalue": "name 'r2_score' is not defined",
     "output_type": "error",
     "traceback": [
      "\u001b[0;31m---------------------------------------------------------------------------\u001b[0m",
      "\u001b[0;31mNameError\u001b[0m                                 Traceback (most recent call last)",
      "\u001b[0;32m/var/folders/1z/hh2bfbq55kx8t66jly77h1jh0000gn/T/ipykernel_41344/80606135.py\u001b[0m in \u001b[0;36m<module>\u001b[0;34m\u001b[0m\n\u001b[1;32m      3\u001b[0m \u001b[0mprint\u001b[0m\u001b[0;34m(\u001b[0m\u001b[0;34m\"Mean Absolute Error: \"\u001b[0m \u001b[0;34m+\u001b[0m \u001b[0mstr\u001b[0m\u001b[0;34m(\u001b[0m\u001b[0mmae\u001b[0m\u001b[0;34m)\u001b[0m\u001b[0;34m)\u001b[0m\u001b[0;34m\u001b[0m\u001b[0;34m\u001b[0m\u001b[0m\n\u001b[1;32m      4\u001b[0m \u001b[0;34m\u001b[0m\u001b[0m\n\u001b[0;32m----> 5\u001b[0;31m \u001b[0mr2\u001b[0m \u001b[0;34m=\u001b[0m \u001b[0mr2_score\u001b[0m\u001b[0;34m(\u001b[0m\u001b[0mY_test\u001b[0m\u001b[0;34m,\u001b[0m \u001b[0mY_pred\u001b[0m\u001b[0;34m)\u001b[0m\u001b[0;34m\u001b[0m\u001b[0;34m\u001b[0m\u001b[0m\n\u001b[0m\u001b[1;32m      6\u001b[0m \u001b[0mprint\u001b[0m\u001b[0;34m(\u001b[0m\u001b[0;34m\"R-squared (R^2) Score: \"\u001b[0m\u001b[0;34m+\u001b[0m\u001b[0mstr\u001b[0m\u001b[0;34m(\u001b[0m\u001b[0mr2\u001b[0m\u001b[0;34m)\u001b[0m\u001b[0;34m)\u001b[0m\u001b[0;34m\u001b[0m\u001b[0;34m\u001b[0m\u001b[0m\n",
      "\u001b[0;31mNameError\u001b[0m: name 'r2_score' is not defined"
     ]
    }
   ],
   "source": [
    "Y_pred = model.predict(X_test)\n",
    "mae = mean_absolute_error(Y_test, Y_pred)\n",
    "print(\"Mean Absolute Error: \" + str(mae))\n",
    "\n",
    "r2 = r2_score(Y_test, Y_pred)\n",
    "print(\"R-squared (R^2) Score: \"+str(r2))"
   ]
  },
  {
   "cell_type": "markdown",
   "id": "b04551b5",
   "metadata": {},
   "source": [
    "Save the trained model"
   ]
  },
  {
   "cell_type": "code",
   "execution_count": 49,
   "id": "2b5aae89",
   "metadata": {},
   "outputs": [],
   "source": [
    "with open('ford_and_Volkswagen_price_predictor.pkl', 'wb') as f:\n",
    "    pickle.dump(model, f)"
   ]
  },
  {
   "cell_type": "code",
   "execution_count": null,
   "id": "86b58970",
   "metadata": {},
   "outputs": [],
   "source": []
  }
 ],
 "metadata": {
  "kernelspec": {
   "display_name": "Python 3 (ipykernel)",
   "language": "python",
   "name": "python3"
  },
  "language_info": {
   "codemirror_mode": {
    "name": "ipython",
    "version": 3
   },
   "file_extension": ".py",
   "mimetype": "text/x-python",
   "name": "python",
   "nbconvert_exporter": "python",
   "pygments_lexer": "ipython3",
   "version": "3.9.13"
  }
 },
 "nbformat": 4,
 "nbformat_minor": 5
}
